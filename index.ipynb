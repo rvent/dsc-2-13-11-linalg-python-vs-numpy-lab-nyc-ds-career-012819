{
 "cells": [
  {
   "cell_type": "markdown",
   "metadata": {},
   "source": [
    "# Pure Python vs. Numpy - Lab\n",
    "\n",
    "## Introduction \n",
    "\n",
    "Numpy, Scipy and Pandas libraries provide a significant increase in computational efficiency with complex mathematical operations as compared to Python's built in arithmatic functions.  In this lab we shall calculate and compare the processing speed required for calculating a dot product both using basic arithmatic operations in Python and Numpy's `.dot()` method. \n",
    "\n",
    "## Objectives\n",
    "You will be able to:\n",
    "* Compare the performance of high dimensional matrix operations in Numpy vs. pure Python"
   ]
  },
  {
   "cell_type": "code",
   "execution_count": 1,
   "metadata": {},
   "outputs": [],
   "source": [
    "import numpy as np\n",
    "def array_ind(array):\n",
    "    try:\n",
    "        import itertools as it\n",
    "    except NameError as e:\n",
    "        return \"Install itertools\"\n",
    "    sh = array.shape\n",
    "    length = len(array.shape)\n",
    "    lst = list(range(max(sh)))\n",
    "    ind_comb_1 = set(it.combinations_with_replacement(lst, length))\n",
    "    ind_comb_2 = set(it.permutations(lst*2, length))\n",
    "    indices = list(ind_comb_1|ind_comb_2)\n",
    "    idx_final = indices.copy()\n",
    "    for i in range(length):\n",
    "        for perm in indices:\n",
    "            if perm[i] >= sh[i]:\n",
    "                if perm in idx_final:\n",
    "                    idx_final.remove(perm)\n",
    "            idx_final.sort()\n",
    "    return idx_final   \n",
    "\n",
    "def create_random_tensor(tensor, range_min, range_max):\n",
    "    try:\n",
    "        result = tensor.copy()\n",
    "        indices = array_ind(tensor)\n",
    "        for ind in indices:\n",
    "            result[ind] = np.random.randint(range_min, range_max)\n",
    "        return result\n",
    "    except:\n",
    "        return \"Need array_ind to run\"\n",
    "    \n",
    "def create_random_matrix(zero_matrix, range_min, range_max):\n",
    "    result = zero_matrix.copy()\n",
    "    sh = result.shape\n",
    "    for i in range(sh[0]):\n",
    "        for j in range(sh[1]):\n",
    "            result[i,j] += np.random.randint(range_min, range_max)\n",
    "    return result"
   ]
  },
  {
   "cell_type": "markdown",
   "metadata": {},
   "source": [
    "## Problem\n",
    "> **Write a routine to calculate the dot product between two 200 x 200 dimensional matrices using:**\n",
    "\n",
    "> **a) Pure Python**\n",
    "\n",
    "> **b) Numpy's `.dot()`**\n",
    "\n",
    "\n",
    "### Create two 200 x 200 matrices in Python and fill them with random values using `np.random.rand()` "
   ]
  },
  {
   "cell_type": "code",
   "execution_count": null,
   "metadata": {},
   "outputs": [],
   "source": [
    "# Compare 200x200 matrix-matrix multiplication speed\n",
    "import numpy as np\n",
    "\n",
    "# Set up the variables\n",
    "A = create_random_tensor(np.zeros([200, 200]), 1, 10)\n",
    "B = create_random_tensor(np.zeros([200, 200]), 1, 10)"
   ]
  },
  {
   "cell_type": "code",
   "execution_count": null,
   "metadata": {},
   "outputs": [],
   "source": [
    "# A = create_random_matrix(np.zeros([200, 200]), 1, 20)\n",
    "# B = create_random_matrix(np.zeros([200, 200]), 1, 20)\n",
    "\n",
    "print(A, B)"
   ]
  },
  {
   "cell_type": "markdown",
   "metadata": {},
   "source": [
    "### Pure Python\n",
    "\n",
    "* Initialize an zeros filled numpy matrix with necessary rows and columns for storing result. \n",
    "* In Python Calculate the dot product using the formula \n",
    "![](formula.png)\n",
    "* Use Python's `timeit` library to calculate the processing time. \n",
    "* [Visit this link](https://www.pythoncentral.io/time-a-python-function/) for an indepth explanation on how to time a function or routine in python. \n",
    "\n",
    "**Hint**: Use nested for loop for accessing, calculating and storing each scalar value in the result matrix."
   ]
  },
  {
   "cell_type": "code",
   "execution_count": 25,
   "metadata": {},
   "outputs": [
    {
     "name": "stdout",
     "output_type": "stream",
     "text": [
      "Pure Python Time: 5.423821089090779 sec.\n"
     ]
    }
   ],
   "source": [
    "import timeit\n",
    "SIZE=200\n",
    "results = np.zeros([SIZE, SIZE])\n",
    "# Start the timer\n",
    "start = timeit.default_timer()\n",
    "\n",
    "# Matrix multiplication in pure Python\n",
    "for i in range(SIZE):\n",
    "    for j in range(SIZE):\n",
    "        for k in range(SIZE):\n",
    "            results[i,k] += A[i,j]*B[j, k]\n",
    "\n",
    "time_spent = timeit.default_timer() - start\n",
    "\n",
    "print('Pure Python Time:', time_spent, 'sec.')"
   ]
  },
  {
   "cell_type": "markdown",
   "metadata": {},
   "source": [
    "## Numpy \n",
    "Set the timer and calculate the time taken by `.dot()` function for multiplying A and B \n"
   ]
  },
  {
   "cell_type": "code",
   "execution_count": 19,
   "metadata": {
    "scrolled": true
   },
   "outputs": [
    {
     "name": "stdout",
     "output_type": "stream",
     "text": [
      "Numpy Time: 0.033634579041972756 sec.\n"
     ]
    }
   ],
   "source": [
    "# start the timer\n",
    "start = start = timeit.default_timer()\n",
    "\n",
    "# Matrix multiplication in numpy\n",
    "A.dot(B)\n",
    "\n",
    "time_spent = timeit.default_timer() - start\n",
    "print('Numpy Time:', time_spent, 'sec.')"
   ]
  },
  {
   "cell_type": "code",
   "execution_count": 27,
   "metadata": {},
   "outputs": [
    {
     "data": {
      "text/plain": [
       "array([[5111., 5543., 5290., ..., 5210., 5128., 5253.],\n",
       "       [5499., 5575., 5411., ..., 5473., 5395., 5404.],\n",
       "       [4982., 5262., 5000., ..., 5083., 4902., 5138.],\n",
       "       ...,\n",
       "       [5193., 5772., 5329., ..., 5194., 5271., 5456.],\n",
       "       [4855., 5111., 4702., ..., 4847., 4908., 4786.],\n",
       "       [4605., 5239., 4773., ..., 4881., 4844., 4770.]])"
      ]
     },
     "execution_count": 27,
     "metadata": {},
     "output_type": "execute_result"
    }
   ],
   "source": [
    "results"
   ]
  },
  {
   "cell_type": "code",
   "execution_count": 24,
   "metadata": {},
   "outputs": [
    {
     "data": {
      "text/plain": [
       "array([[5111., 5543., 5290., ..., 5210., 5128., 5253.],\n",
       "       [5499., 5575., 5411., ..., 5473., 5395., 5404.],\n",
       "       [4982., 5262., 5000., ..., 5083., 4902., 5138.],\n",
       "       ...,\n",
       "       [5193., 5772., 5329., ..., 5194., 5271., 5456.],\n",
       "       [4855., 5111., 4702., ..., 4847., 4908., 4786.],\n",
       "       [4605., 5239., 4773., ..., 4881., 4844., 4770.]])"
      ]
     },
     "execution_count": 24,
     "metadata": {},
     "output_type": "execute_result"
    }
   ],
   "source": [
    "A.dot(B)"
   ]
  },
  {
   "cell_type": "code",
   "execution_count": 28,
   "metadata": {
    "scrolled": true
   },
   "outputs": [
    {
     "data": {
      "text/plain": [
       "array([[ True,  True,  True, ...,  True,  True,  True],\n",
       "       [ True,  True,  True, ...,  True,  True,  True],\n",
       "       [ True,  True,  True, ...,  True,  True,  True],\n",
       "       ...,\n",
       "       [ True,  True,  True, ...,  True,  True,  True],\n",
       "       [ True,  True,  True, ...,  True,  True,  True],\n",
       "       [ True,  True,  True, ...,  True,  True,  True]])"
      ]
     },
     "execution_count": 28,
     "metadata": {},
     "output_type": "execute_result"
    }
   ],
   "source": [
    "results == A.dot(B)"
   ]
  },
  {
   "cell_type": "code",
   "execution_count": 29,
   "metadata": {},
   "outputs": [
    {
     "data": {
      "text/plain": [
       "161.2572906687004"
      ]
     },
     "execution_count": 29,
     "metadata": {},
     "output_type": "execute_result"
    }
   ],
   "source": [
    "5.423821089090779/0.033634579041972756"
   ]
  },
  {
   "cell_type": "markdown",
   "metadata": {},
   "source": [
    "### Your comments "
   ]
  },
  {
   "cell_type": "markdown",
   "metadata": {},
   "source": [
    "```\n",
    "Numpy was much faster than working out in Python.\n",
    "```\n",
    "\n",
    "NumPy provides support for large multidimensional arrays and matrices along with a collection of mathematical functions to operate on these elements. \n",
    "\n",
    "Numpy relies on well-known packages implemented in other languages (like Fortran) to perform efficient computations, bringing the user both the expressiveness of Python and a performance similar to MATLAB or Fortran."
   ]
  },
  {
   "cell_type": "markdown",
   "metadata": {},
   "source": [
    "## Summary\n",
    "\n",
    "In this lab, we performed a quick comparison between calculating a dot product in numpy vs python built in function. We saw that Numpy is computationally much more efficient that Python code due to highly sophisticated implementation of Numpy source code. You are encouraged to always perform such tests to fully appreciate the use of an additional library in Python. "
   ]
  }
 ],
 "metadata": {
  "kernelspec": {
   "display_name": "Python 3",
   "language": "python",
   "name": "python3"
  },
  "language_info": {
   "codemirror_mode": {
    "name": "ipython",
    "version": 3
   },
   "file_extension": ".py",
   "mimetype": "text/x-python",
   "name": "python",
   "nbconvert_exporter": "python",
   "pygments_lexer": "ipython3",
   "version": "3.6.6"
  }
 },
 "nbformat": 4,
 "nbformat_minor": 2
}
